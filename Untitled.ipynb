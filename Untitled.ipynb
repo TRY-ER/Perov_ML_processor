{
 "cells": [
  {
   "cell_type": "code",
   "execution_count": 2,
   "id": "9e85ee10-04cf-4f3e-a21e-f710fcdcc59a",
   "metadata": {},
   "outputs": [],
   "source": [
    "import pandas as pd\n",
    "import numpy as np\n",
    "from sklearn.model_selection import StratifiedKFold"
   ]
  },
  {
   "cell_type": "code",
   "execution_count": 4,
   "id": "e3ad804d-4d1a-41f9-a8e9-70268e1b3a3d",
   "metadata": {},
   "outputs": [],
   "source": [
    "use_df = pd.read_csv(\"./inputs/minMax_ml_preprocessed_df.csv\")"
   ]
  },
  {
   "cell_type": "code",
   "execution_count": 5,
   "id": "4c8add66-91e2-4c90-88a8-eb7da81c330a",
   "metadata": {},
   "outputs": [],
   "source": [
    "skf =  StratifiedKFold(n_splits = 10, shuffle=True, random_state= 10)"
   ]
  },
  {
   "cell_type": "code",
   "execution_count": null,
   "id": "8a2a44e7-9dc0-4802-8314-74c339753aac",
   "metadata": {},
   "outputs": [],
   "source": []
  },
  {
   "cell_type": "code",
   "execution_count": 23,
   "id": "cb6dfc68-ff14-4901-b498-204f7e900493",
   "metadata": {},
   "outputs": [],
   "source": [
    "x = use_df.iloc[:,1:-1]\n",
    "y = use_df[\"PCE_categorical\"]"
   ]
  },
  {
   "cell_type": "code",
   "execution_count": 29,
   "id": "b6b9d592-e98f-4dea-99a6-9f21fb59ac90",
   "metadata": {},
   "outputs": [],
   "source": [
    "condition = [ use_df[\"PCE_categorical\"] == 0.0,\n",
    "             use_df[\"PCE_categorical\"] == 0.2,\n",
    "             use_df[\"PCE_categorical\"] == 0.4,\n",
    "             use_df[\"PCE_categorical\"] == 0.6,\n",
    "             use_df[\"PCE_categorical\"] == 0.8,\n",
    "             use_df[\"PCE_categorical\"] == 1.0,]\n",
    "\n",
    "choice = [0,2,4,6,8,10]\n",
    "y = np.select(condition, choice)"
   ]
  },
  {
   "cell_type": "code",
   "execution_count": 32,
   "id": "36a8e58d-87ec-498b-a82b-afc6803c1f51",
   "metadata": {},
   "outputs": [
    {
     "name": "stdout",
     "output_type": "stream",
     "text": [
      "0 ::\n",
      "Train Index\n",
      "[    0     1     2 ... 22935 22936 22937]\n",
      "(20644,)\n",
      "Test Index\n",
      "[   16    20    23 ... 22891 22894 22897]\n",
      "(2294,)\n",
      "1 ::\n",
      "Train Index\n",
      "[    0     1     2 ... 22935 22936 22937]\n",
      "(20644,)\n",
      "Test Index\n",
      "[    5    24    25 ... 22918 22919 22920]\n",
      "(2294,)\n",
      "2 ::\n",
      "Train Index\n",
      "[    0     1     2 ... 22935 22936 22937]\n",
      "(20644,)\n",
      "Test Index\n",
      "[    9    14    18 ... 22928 22931 22932]\n",
      "(2294,)\n",
      "3 ::\n",
      "Train Index\n",
      "[    0     1     2 ... 22935 22936 22937]\n",
      "(20644,)\n",
      "Test Index\n",
      "[    7    17    22 ... 22907 22913 22933]\n",
      "(2294,)\n",
      "4 ::\n",
      "Train Index\n",
      "[    0     1     4 ... 22935 22936 22937]\n",
      "(20644,)\n",
      "Test Index\n",
      "[    2     3    12 ... 22900 22904 22921]\n",
      "(2294,)\n",
      "5 ::\n",
      "Train Index\n",
      "[    0     1     2 ... 22935 22936 22937]\n",
      "(20644,)\n",
      "Test Index\n",
      "[   27    29    37 ... 22885 22923 22924]\n",
      "(2294,)\n",
      "6 ::\n",
      "Train Index\n",
      "[    0     1     2 ... 22935 22936 22937]\n",
      "(20644,)\n",
      "Test Index\n",
      "[    8    11    21 ... 22911 22914 22930]\n",
      "(2294,)\n",
      "7 ::\n",
      "Train Index\n",
      "[    2     3     4 ... 22933 22935 22936]\n",
      "(20644,)\n",
      "Test Index\n",
      "[    0     1    10 ... 22929 22934 22937]\n",
      "(2294,)\n",
      "8 ::\n",
      "Train Index\n",
      "[    0     1     2 ... 22933 22934 22937]\n",
      "(20645,)\n",
      "Test Index\n",
      "[   26    33    41 ... 22927 22935 22936]\n",
      "(2293,)\n",
      "9 ::\n",
      "Train Index\n",
      "[    0     1     2 ... 22935 22936 22937]\n",
      "(20645,)\n",
      "Test Index\n",
      "[    4     6    13 ... 22867 22898 22916]\n",
      "(2293,)\n"
     ]
    }
   ],
   "source": [
    "for i,(train_index,test_index) in enumerate(skf.split(x,y)):\n",
    "    print(f\"{i} ::\")\n",
    "    print(\"Train Index\")\n",
    "    print(train_index)\n",
    "    print(train_index.shape)\n",
    "    print(\"Test Index\")\n",
    "    print(test_index)\n",
    "    print(test_index.shape)"
   ]
  },
  {
   "cell_type": "code",
   "execution_count": null,
   "id": "96942827-07bd-4b37-aebc-c3750e6d61bc",
   "metadata": {},
   "outputs": [],
   "source": []
  }
 ],
 "metadata": {
  "kernelspec": {
   "display_name": "Python 3 (ipykernel)",
   "language": "python",
   "name": "python3"
  },
  "language_info": {
   "codemirror_mode": {
    "name": "ipython",
    "version": 3
   },
   "file_extension": ".py",
   "mimetype": "text/x-python",
   "name": "python",
   "nbconvert_exporter": "python",
   "pygments_lexer": "ipython3",
   "version": "3.7.9"
  }
 },
 "nbformat": 4,
 "nbformat_minor": 5
}
